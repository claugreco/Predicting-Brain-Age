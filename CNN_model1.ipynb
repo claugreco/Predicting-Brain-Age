{
 "cells": [
  {
   "cell_type": "code",
   "execution_count": 1,
   "metadata": {
    "collapsed": true
   },
   "outputs": [],
   "source": [
    "#First Model. \n",
    "#No Data Augmentation\n",
    "#No hyperparameters tunning"
   ]
  },
  {
   "cell_type": "code",
   "execution_count": 1,
   "metadata": {},
   "outputs": [
    {
     "name": "stderr",
     "output_type": "stream",
     "text": [
      "/Users/claugreco/anaconda3/envs/tensorflow/lib/python3.6/site-packages/h5py/__init__.py:36: FutureWarning: Conversion of the second argument of issubdtype from `float` to `np.floating` is deprecated. In future, it will be treated as `np.float64 == np.dtype(float).type`.\n",
      "  from ._conv import register_converters as _register_converters\n",
      "Using TensorFlow backend.\n"
     ]
    }
   ],
   "source": [
    "import numpy as np\n",
    "import nibabel as nib\n",
    "import glob\n",
    "import os\n",
    "import pandas as pd\n",
    "\n",
    "import keras\n",
    "from keras.models import Model, Sequential\n",
    "from keras.utils import np_utils\n",
    "from keras.layers import Dense, Dropout, Activation, Flatten, BatchNormalization\n",
    "from keras.layers import Convolution2D, MaxPooling2D\n",
    "from keras.layers import Conv2D, MaxPool2D\n",
    "from keras.callbacks import EarlyStopping\n",
    "\n",
    "from sklearn.model_selection import train_test_split\n",
    "from sklearn.preprocessing import StandardScaler\n",
    "from sklearn.preprocessing import MinMaxScaler\n",
    "from sklearn.metrics import mean_squared_error, r2_score\n",
    "from sklearn.metrics import mean_absolute_error\n",
    "import scipy\n",
    "\n",
    "import csv as csv\n",
    "\n",
    "%matplotlib inline\n",
    "import matplotlib.pyplot as plt"
   ]
  },
  {
   "cell_type": "code",
   "execution_count": 2,
   "metadata": {},
   "outputs": [
    {
     "name": "stdout",
     "output_type": "stream",
     "text": [
      "2.1.4\n"
     ]
    }
   ],
   "source": [
    "print(keras.__version__)"
   ]
  },
  {
   "cell_type": "code",
   "execution_count": 3,
   "metadata": {},
   "outputs": [
    {
     "data": {
      "text/plain": [
       "(493, 38402)"
      ]
     },
     "execution_count": 3,
     "metadata": {},
     "output_type": "execute_result"
    }
   ],
   "source": [
    "df = pd.read_csv('data.csv')\n",
    "df.shape"
   ]
  },
  {
   "cell_type": "code",
   "execution_count": 4,
   "metadata": {},
   "outputs": [
    {
     "data": {
      "text/html": [
       "<div>\n",
       "<style scoped>\n",
       "    .dataframe tbody tr th:only-of-type {\n",
       "        vertical-align: middle;\n",
       "    }\n",
       "\n",
       "    .dataframe tbody tr th {\n",
       "        vertical-align: top;\n",
       "    }\n",
       "\n",
       "    .dataframe thead th {\n",
       "        text-align: right;\n",
       "    }\n",
       "</style>\n",
       "<table border=\"1\" class=\"dataframe\">\n",
       "  <thead>\n",
       "    <tr style=\"text-align: right;\">\n",
       "      <th></th>\n",
       "      <th>Unnamed: 0</th>\n",
       "      <th>0</th>\n",
       "      <th>1</th>\n",
       "      <th>2</th>\n",
       "      <th>3</th>\n",
       "      <th>4</th>\n",
       "      <th>5</th>\n",
       "      <th>6</th>\n",
       "      <th>7</th>\n",
       "      <th>8</th>\n",
       "      <th>...</th>\n",
       "      <th>38391</th>\n",
       "      <th>38392</th>\n",
       "      <th>38393</th>\n",
       "      <th>38394</th>\n",
       "      <th>38395</th>\n",
       "      <th>38396</th>\n",
       "      <th>38397</th>\n",
       "      <th>38398</th>\n",
       "      <th>38399</th>\n",
       "      <th>label</th>\n",
       "    </tr>\n",
       "  </thead>\n",
       "  <tbody>\n",
       "    <tr>\n",
       "      <th>0</th>\n",
       "      <td>0</td>\n",
       "      <td>0</td>\n",
       "      <td>0</td>\n",
       "      <td>0</td>\n",
       "      <td>3</td>\n",
       "      <td>4</td>\n",
       "      <td>13</td>\n",
       "      <td>11</td>\n",
       "      <td>15</td>\n",
       "      <td>9</td>\n",
       "      <td>...</td>\n",
       "      <td>0</td>\n",
       "      <td>0</td>\n",
       "      <td>0</td>\n",
       "      <td>0</td>\n",
       "      <td>0</td>\n",
       "      <td>0</td>\n",
       "      <td>0</td>\n",
       "      <td>0</td>\n",
       "      <td>0</td>\n",
       "      <td>35</td>\n",
       "    </tr>\n",
       "    <tr>\n",
       "      <th>1</th>\n",
       "      <td>1</td>\n",
       "      <td>9</td>\n",
       "      <td>3</td>\n",
       "      <td>1</td>\n",
       "      <td>3</td>\n",
       "      <td>11</td>\n",
       "      <td>5</td>\n",
       "      <td>1</td>\n",
       "      <td>9</td>\n",
       "      <td>14</td>\n",
       "      <td>...</td>\n",
       "      <td>0</td>\n",
       "      <td>1</td>\n",
       "      <td>1</td>\n",
       "      <td>0</td>\n",
       "      <td>0</td>\n",
       "      <td>0</td>\n",
       "      <td>0</td>\n",
       "      <td>0</td>\n",
       "      <td>0</td>\n",
       "      <td>38</td>\n",
       "    </tr>\n",
       "    <tr>\n",
       "      <th>2</th>\n",
       "      <td>2</td>\n",
       "      <td>11</td>\n",
       "      <td>9</td>\n",
       "      <td>5</td>\n",
       "      <td>1</td>\n",
       "      <td>1</td>\n",
       "      <td>5</td>\n",
       "      <td>5</td>\n",
       "      <td>1</td>\n",
       "      <td>1</td>\n",
       "      <td>...</td>\n",
       "      <td>0</td>\n",
       "      <td>0</td>\n",
       "      <td>0</td>\n",
       "      <td>0</td>\n",
       "      <td>0</td>\n",
       "      <td>0</td>\n",
       "      <td>0</td>\n",
       "      <td>0</td>\n",
       "      <td>3</td>\n",
       "      <td>46</td>\n",
       "    </tr>\n",
       "    <tr>\n",
       "      <th>3</th>\n",
       "      <td>3</td>\n",
       "      <td>0</td>\n",
       "      <td>0</td>\n",
       "      <td>11</td>\n",
       "      <td>8</td>\n",
       "      <td>6</td>\n",
       "      <td>6</td>\n",
       "      <td>1</td>\n",
       "      <td>3</td>\n",
       "      <td>10</td>\n",
       "      <td>...</td>\n",
       "      <td>0</td>\n",
       "      <td>3</td>\n",
       "      <td>0</td>\n",
       "      <td>0</td>\n",
       "      <td>1</td>\n",
       "      <td>0</td>\n",
       "      <td>0</td>\n",
       "      <td>1</td>\n",
       "      <td>0</td>\n",
       "      <td>34</td>\n",
       "    </tr>\n",
       "    <tr>\n",
       "      <th>4</th>\n",
       "      <td>4</td>\n",
       "      <td>0</td>\n",
       "      <td>0</td>\n",
       "      <td>16</td>\n",
       "      <td>26</td>\n",
       "      <td>22</td>\n",
       "      <td>19</td>\n",
       "      <td>6</td>\n",
       "      <td>3</td>\n",
       "      <td>0</td>\n",
       "      <td>...</td>\n",
       "      <td>0</td>\n",
       "      <td>0</td>\n",
       "      <td>0</td>\n",
       "      <td>0</td>\n",
       "      <td>0</td>\n",
       "      <td>0</td>\n",
       "      <td>0</td>\n",
       "      <td>0</td>\n",
       "      <td>0</td>\n",
       "      <td>24</td>\n",
       "    </tr>\n",
       "  </tbody>\n",
       "</table>\n",
       "<p>5 rows × 38402 columns</p>\n",
       "</div>"
      ],
      "text/plain": [
       "   Unnamed: 0   0  1   2   3   4   5   6   7   8  ...    38391  38392  38393  \\\n",
       "0           0   0  0   0   3   4  13  11  15   9  ...        0      0      0   \n",
       "1           1   9  3   1   3  11   5   1   9  14  ...        0      1      1   \n",
       "2           2  11  9   5   1   1   5   5   1   1  ...        0      0      0   \n",
       "3           3   0  0  11   8   6   6   1   3  10  ...        0      3      0   \n",
       "4           4   0  0  16  26  22  19   6   3   0  ...        0      0      0   \n",
       "\n",
       "   38394  38395  38396  38397  38398  38399  label  \n",
       "0      0      0      0      0      0      0     35  \n",
       "1      0      0      0      0      0      0     38  \n",
       "2      0      0      0      0      0      3     46  \n",
       "3      0      1      0      0      1      0     34  \n",
       "4      0      0      0      0      0      0     24  \n",
       "\n",
       "[5 rows x 38402 columns]"
      ]
     },
     "execution_count": 4,
     "metadata": {},
     "output_type": "execute_result"
    }
   ],
   "source": [
    "df.head()"
   ]
  },
  {
   "cell_type": "code",
   "execution_count": 5,
   "metadata": {},
   "outputs": [],
   "source": [
    "df = df.drop('Unnamed: 0', axis=1)"
   ]
  },
  {
   "cell_type": "code",
   "execution_count": 6,
   "metadata": {},
   "outputs": [
    {
     "data": {
      "text/plain": [
       "(493, 38401)"
      ]
     },
     "execution_count": 6,
     "metadata": {},
     "output_type": "execute_result"
    }
   ],
   "source": [
    "df.shape"
   ]
  },
  {
   "cell_type": "code",
   "execution_count": 7,
   "metadata": {},
   "outputs": [
    {
     "data": {
      "text/html": [
       "<div>\n",
       "<style scoped>\n",
       "    .dataframe tbody tr th:only-of-type {\n",
       "        vertical-align: middle;\n",
       "    }\n",
       "\n",
       "    .dataframe tbody tr th {\n",
       "        vertical-align: top;\n",
       "    }\n",
       "\n",
       "    .dataframe thead th {\n",
       "        text-align: right;\n",
       "    }\n",
       "</style>\n",
       "<table border=\"1\" class=\"dataframe\">\n",
       "  <thead>\n",
       "    <tr style=\"text-align: right;\">\n",
       "      <th></th>\n",
       "      <th>0</th>\n",
       "      <th>1</th>\n",
       "      <th>2</th>\n",
       "      <th>3</th>\n",
       "      <th>4</th>\n",
       "      <th>5</th>\n",
       "      <th>6</th>\n",
       "      <th>7</th>\n",
       "      <th>8</th>\n",
       "      <th>9</th>\n",
       "      <th>...</th>\n",
       "      <th>38391</th>\n",
       "      <th>38392</th>\n",
       "      <th>38393</th>\n",
       "      <th>38394</th>\n",
       "      <th>38395</th>\n",
       "      <th>38396</th>\n",
       "      <th>38397</th>\n",
       "      <th>38398</th>\n",
       "      <th>38399</th>\n",
       "      <th>label</th>\n",
       "    </tr>\n",
       "  </thead>\n",
       "  <tbody>\n",
       "    <tr>\n",
       "      <th>0</th>\n",
       "      <td>0</td>\n",
       "      <td>0</td>\n",
       "      <td>0</td>\n",
       "      <td>3</td>\n",
       "      <td>4</td>\n",
       "      <td>13</td>\n",
       "      <td>11</td>\n",
       "      <td>15</td>\n",
       "      <td>9</td>\n",
       "      <td>6</td>\n",
       "      <td>...</td>\n",
       "      <td>0</td>\n",
       "      <td>0</td>\n",
       "      <td>0</td>\n",
       "      <td>0</td>\n",
       "      <td>0</td>\n",
       "      <td>0</td>\n",
       "      <td>0</td>\n",
       "      <td>0</td>\n",
       "      <td>0</td>\n",
       "      <td>35</td>\n",
       "    </tr>\n",
       "    <tr>\n",
       "      <th>1</th>\n",
       "      <td>9</td>\n",
       "      <td>3</td>\n",
       "      <td>1</td>\n",
       "      <td>3</td>\n",
       "      <td>11</td>\n",
       "      <td>5</td>\n",
       "      <td>1</td>\n",
       "      <td>9</td>\n",
       "      <td>14</td>\n",
       "      <td>12</td>\n",
       "      <td>...</td>\n",
       "      <td>0</td>\n",
       "      <td>1</td>\n",
       "      <td>1</td>\n",
       "      <td>0</td>\n",
       "      <td>0</td>\n",
       "      <td>0</td>\n",
       "      <td>0</td>\n",
       "      <td>0</td>\n",
       "      <td>0</td>\n",
       "      <td>38</td>\n",
       "    </tr>\n",
       "    <tr>\n",
       "      <th>2</th>\n",
       "      <td>11</td>\n",
       "      <td>9</td>\n",
       "      <td>5</td>\n",
       "      <td>1</td>\n",
       "      <td>1</td>\n",
       "      <td>5</td>\n",
       "      <td>5</td>\n",
       "      <td>1</td>\n",
       "      <td>1</td>\n",
       "      <td>1</td>\n",
       "      <td>...</td>\n",
       "      <td>0</td>\n",
       "      <td>0</td>\n",
       "      <td>0</td>\n",
       "      <td>0</td>\n",
       "      <td>0</td>\n",
       "      <td>0</td>\n",
       "      <td>0</td>\n",
       "      <td>0</td>\n",
       "      <td>3</td>\n",
       "      <td>46</td>\n",
       "    </tr>\n",
       "    <tr>\n",
       "      <th>3</th>\n",
       "      <td>0</td>\n",
       "      <td>0</td>\n",
       "      <td>11</td>\n",
       "      <td>8</td>\n",
       "      <td>6</td>\n",
       "      <td>6</td>\n",
       "      <td>1</td>\n",
       "      <td>3</td>\n",
       "      <td>10</td>\n",
       "      <td>3</td>\n",
       "      <td>...</td>\n",
       "      <td>0</td>\n",
       "      <td>3</td>\n",
       "      <td>0</td>\n",
       "      <td>0</td>\n",
       "      <td>1</td>\n",
       "      <td>0</td>\n",
       "      <td>0</td>\n",
       "      <td>1</td>\n",
       "      <td>0</td>\n",
       "      <td>34</td>\n",
       "    </tr>\n",
       "    <tr>\n",
       "      <th>4</th>\n",
       "      <td>0</td>\n",
       "      <td>0</td>\n",
       "      <td>16</td>\n",
       "      <td>26</td>\n",
       "      <td>22</td>\n",
       "      <td>19</td>\n",
       "      <td>6</td>\n",
       "      <td>3</td>\n",
       "      <td>0</td>\n",
       "      <td>0</td>\n",
       "      <td>...</td>\n",
       "      <td>0</td>\n",
       "      <td>0</td>\n",
       "      <td>0</td>\n",
       "      <td>0</td>\n",
       "      <td>0</td>\n",
       "      <td>0</td>\n",
       "      <td>0</td>\n",
       "      <td>0</td>\n",
       "      <td>0</td>\n",
       "      <td>24</td>\n",
       "    </tr>\n",
       "  </tbody>\n",
       "</table>\n",
       "<p>5 rows × 38401 columns</p>\n",
       "</div>"
      ],
      "text/plain": [
       "    0  1   2   3   4   5   6   7   8   9  ...    38391  38392  38393  38394  \\\n",
       "0   0  0   0   3   4  13  11  15   9   6  ...        0      0      0      0   \n",
       "1   9  3   1   3  11   5   1   9  14  12  ...        0      1      1      0   \n",
       "2  11  9   5   1   1   5   5   1   1   1  ...        0      0      0      0   \n",
       "3   0  0  11   8   6   6   1   3  10   3  ...        0      3      0      0   \n",
       "4   0  0  16  26  22  19   6   3   0   0  ...        0      0      0      0   \n",
       "\n",
       "   38395  38396  38397  38398  38399  label  \n",
       "0      0      0      0      0      0     35  \n",
       "1      0      0      0      0      0     38  \n",
       "2      0      0      0      0      3     46  \n",
       "3      1      0      0      1      0     34  \n",
       "4      0      0      0      0      0     24  \n",
       "\n",
       "[5 rows x 38401 columns]"
      ]
     },
     "execution_count": 7,
     "metadata": {},
     "output_type": "execute_result"
    }
   ],
   "source": [
    "df.head()"
   ]
  },
  {
   "cell_type": "code",
   "execution_count": 8,
   "metadata": {},
   "outputs": [],
   "source": [
    "y= df['label']\n",
    "X= df.drop('label', axis=1)"
   ]
  },
  {
   "cell_type": "code",
   "execution_count": 9,
   "metadata": {},
   "outputs": [],
   "source": [
    "#Rescale Data\n",
    "\n",
    "scaler = MinMaxScaler(feature_range = (0,1))\n",
    "X_scaled = scaler.fit_transform(X)"
   ]
  },
  {
   "cell_type": "code",
   "execution_count": 10,
   "metadata": {
    "scrolled": true
   },
   "outputs": [
    {
     "data": {
      "text/plain": [
       "1.0000000000000002"
      ]
     },
     "execution_count": 10,
     "metadata": {},
     "output_type": "execute_result"
    }
   ],
   "source": [
    "X_scaled.max()"
   ]
  },
  {
   "cell_type": "code",
   "execution_count": 11,
   "metadata": {},
   "outputs": [],
   "source": [
    "# Train/Test Split\n",
    "X_train, X_test, y_train, y_test = train_test_split(X_scaled, y, test_size=0.3, random_state=142)\n",
    "\n",
    "# # Standardize Data\n",
    "# ss = StandardScaler()\n",
    "# X_train = ss.fit_transform(X_train)\n",
    "# X_test = ss.transform(X_test)\n",
    "\n",
    "# X_train.shape"
   ]
  },
  {
   "cell_type": "code",
   "execution_count": 12,
   "metadata": {},
   "outputs": [],
   "source": [
    "# Reshape \n",
    "X_train = X_train.reshape(X_train.shape[0], 256, 150, 1)\n",
    "X_test = X_test.reshape(X_test.shape[0], 256, 150, 1)"
   ]
  },
  {
   "cell_type": "code",
   "execution_count": 13,
   "metadata": {},
   "outputs": [
    {
     "data": {
      "text/plain": [
       "(345, 256, 150, 1)"
      ]
     },
     "execution_count": 13,
     "metadata": {},
     "output_type": "execute_result"
    }
   ],
   "source": [
    "X_train.shape"
   ]
  },
  {
   "cell_type": "code",
   "execution_count": 14,
   "metadata": {},
   "outputs": [
    {
     "data": {
      "text/plain": [
       "(256, 150, 1)"
      ]
     },
     "execution_count": 14,
     "metadata": {},
     "output_type": "execute_result"
    }
   ],
   "source": [
    "X_train.shape[1:]"
   ]
  },
  {
   "cell_type": "code",
   "execution_count": 15,
   "metadata": {},
   "outputs": [],
   "source": [
    "# Set the CNN model \n",
    "# my CNN architechture is In -> [[Conv2D->relu]-> MaxPool2D]*2 -> Dropout -> \n",
    "# Flatten -> Dense -> Dropout -> Out\n",
    "\n",
    "\n",
    "# Define model architecture\n",
    "model = Sequential()\n",
    "\n",
    "#Convolutional layer1\n",
    "#filters types are chosing automatically\n",
    "model.add(Convolution2D(filters = 15,           \n",
    "                        kernel_size = (5,5),    \n",
    "                        strides=(1, 1),         \n",
    "                        activation='relu', \n",
    "                        input_shape=(256,150,1)))\n",
    "\n",
    "#model.add(BatchNormalization())\n",
    "\n",
    "#Pooling layer1\n",
    "model.add(MaxPooling2D(pool_size=(2,2),\n",
    "                      strides=(2, 2)))     \n",
    "\n",
    "\n",
    "#Convolutional layer2\n",
    "model.add(Convolution2D(filters =30,        \n",
    "                        kernel_size = (4,4),   \n",
    "                        activation='relu'))\n",
    "#model.add(BatchNormalization())\n",
    "\n",
    "#Pooling layer2\n",
    "model.add(MaxPooling2D(pool_size=(2,2)))\n",
    "\n",
    "model.add(Dropout(0.25))  #Regularization\n",
    " \n",
    "#Before passing to the fully conected network, we need to flatten\n",
    "model.add(Flatten())\n",
    "\n",
    "#Add a densily connected layer\n",
    "model.add(Dense(1000, activation='relu'))     \n",
    "#model.add(BatchNormalization()) \n",
    "\n",
    "model.add(Dropout(0.5))\n",
    "\n",
    "#Add a densily connected layer --> output layer use relu,\n",
    "model.add(Dense(1, activation='relu'))\n",
    "\n",
    "\n",
    "# Compile model --> loss function is mae\n",
    "\n",
    "model.compile(loss='mae',\n",
    "              optimizer='adam')\n",
    "\n",
    "early_stop = EarlyStopping(monitor='val_loss', min_delta=0.01, patience=10, mode='auto')\n",
    "\n"
   ]
  },
  {
   "cell_type": "code",
   "execution_count": 16,
   "metadata": {},
   "outputs": [
    {
     "name": "stdout",
     "output_type": "stream",
     "text": [
      "Train on 345 samples, validate on 148 samples\n",
      "Epoch 1/50\n",
      "345/345 [==============================] - 24s 71ms/step - loss: 38.7343 - val_loss: 29.1511\n",
      "Epoch 2/50\n",
      "345/345 [==============================] - 19s 55ms/step - loss: 27.0962 - val_loss: 27.0130\n",
      "Epoch 3/50\n",
      "345/345 [==============================] - 19s 55ms/step - loss: 25.3852 - val_loss: 23.2333\n",
      "Epoch 4/50\n",
      "345/345 [==============================] - 19s 55ms/step - loss: 21.6815 - val_loss: 20.2067\n",
      "Epoch 5/50\n",
      "345/345 [==============================] - 19s 54ms/step - loss: 17.2843 - val_loss: 16.0923\n",
      "Epoch 6/50\n",
      "345/345 [==============================] - 20s 58ms/step - loss: 13.6664 - val_loss: 13.3096\n",
      "Epoch 7/50\n",
      "345/345 [==============================] - 20s 57ms/step - loss: 12.0889 - val_loss: 14.0911\n",
      "Epoch 8/50\n",
      "345/345 [==============================] - 19s 56ms/step - loss: 12.6783 - val_loss: 12.4417\n",
      "Epoch 9/50\n",
      "345/345 [==============================] - 20s 57ms/step - loss: 11.9187 - val_loss: 12.3090\n",
      "Epoch 10/50\n",
      "345/345 [==============================] - 20s 57ms/step - loss: 11.9330 - val_loss: 12.3800\n",
      "Epoch 11/50\n",
      "345/345 [==============================] - 19s 54ms/step - loss: 11.5067 - val_loss: 12.1764\n",
      "Epoch 12/50\n",
      "345/345 [==============================] - 19s 55ms/step - loss: 11.5491 - val_loss: 12.2962\n",
      "Epoch 13/50\n",
      "345/345 [==============================] - 19s 56ms/step - loss: 11.1529 - val_loss: 11.9897\n",
      "Epoch 14/50\n",
      "345/345 [==============================] - 19s 56ms/step - loss: 10.8527 - val_loss: 12.2017\n",
      "Epoch 15/50\n",
      "345/345 [==============================] - 19s 55ms/step - loss: 10.9927 - val_loss: 11.9232\n",
      "Epoch 16/50\n",
      "345/345 [==============================] - 19s 56ms/step - loss: 11.0364 - val_loss: 11.7344\n",
      "Epoch 17/50\n",
      "345/345 [==============================] - 19s 54ms/step - loss: 10.3563 - val_loss: 11.6614\n",
      "Epoch 18/50\n",
      "345/345 [==============================] - 21s 60ms/step - loss: 10.4432 - val_loss: 11.6880\n",
      "Epoch 19/50\n",
      "345/345 [==============================] - 19s 56ms/step - loss: 10.2715 - val_loss: 11.5168\n",
      "Epoch 20/50\n",
      "345/345 [==============================] - 19s 56ms/step - loss: 10.2513 - val_loss: 11.6674\n",
      "Epoch 21/50\n",
      "345/345 [==============================] - 18s 52ms/step - loss: 10.0438 - val_loss: 11.3673\n",
      "Epoch 22/50\n",
      "345/345 [==============================] - 18s 53ms/step - loss: 10.3320 - val_loss: 11.4755\n",
      "Epoch 23/50\n",
      "345/345 [==============================] - 18s 53ms/step - loss: 9.9726 - val_loss: 11.6214\n",
      "Epoch 24/50\n",
      "345/345 [==============================] - 19s 54ms/step - loss: 10.1427 - val_loss: 11.7178\n",
      "Epoch 25/50\n",
      "345/345 [==============================] - 19s 55ms/step - loss: 9.8780 - val_loss: 11.2050\n",
      "Epoch 26/50\n",
      "345/345 [==============================] - 18s 53ms/step - loss: 9.4720 - val_loss: 11.2067\n",
      "Epoch 27/50\n",
      "345/345 [==============================] - 20s 59ms/step - loss: 9.3356 - val_loss: 11.0192\n",
      "Epoch 28/50\n",
      "345/345 [==============================] - 21s 60ms/step - loss: 8.9470 - val_loss: 11.1443\n",
      "Epoch 29/50\n",
      "345/345 [==============================] - 20s 58ms/step - loss: 8.7727 - val_loss: 11.1169\n",
      "Epoch 30/50\n",
      "345/345 [==============================] - 19s 56ms/step - loss: 8.6791 - val_loss: 11.1268\n",
      "Epoch 31/50\n",
      "345/345 [==============================] - 19s 56ms/step - loss: 8.7413 - val_loss: 11.4463\n",
      "Epoch 32/50\n",
      "345/345 [==============================] - 19s 56ms/step - loss: 8.5261 - val_loss: 11.4530\n",
      "Epoch 33/50\n",
      "345/345 [==============================] - 19s 56ms/step - loss: 8.3561 - val_loss: 11.1702\n",
      "Epoch 34/50\n",
      "345/345 [==============================] - 18s 51ms/step - loss: 8.2637 - val_loss: 11.8600\n",
      "Epoch 35/50\n",
      "345/345 [==============================] - 18s 51ms/step - loss: 8.7684 - val_loss: 11.1459\n",
      "Epoch 36/50\n",
      "345/345 [==============================] - 20s 58ms/step - loss: 8.8552 - val_loss: 11.6532\n",
      "Epoch 37/50\n",
      "345/345 [==============================] - 21s 62ms/step - loss: 8.2083 - val_loss: 11.3820\n",
      "11min 55s ± 0 ns per loop (mean ± std. dev. of 1 run, 1 loop each)\n"
     ]
    }
   ],
   "source": [
    "%%timeit -n1 -r1\n",
    "# Fit model on training data\n",
    "\n",
    "model.fit(X_train, y_train, \n",
    "          batch_size=128,\n",
    "          epochs=50, \n",
    "          callbacks=[early_stop], \n",
    "          validation_data =(X_test, y_test),\n",
    "          verbose=1)"
   ]
  },
  {
   "cell_type": "code",
   "execution_count": 17,
   "metadata": {},
   "outputs": [],
   "source": [
    "# Evaluate model on test data\n",
    "score = model.evaluate(X_test, y_test, verbose=0)"
   ]
  },
  {
   "cell_type": "code",
   "execution_count": 18,
   "metadata": {},
   "outputs": [],
   "source": [
    "preds = model.predict(X_test)\n",
    "\n",
    "preds_train = model.predict(X_train)"
   ]
  },
  {
   "cell_type": "code",
   "execution_count": 47,
   "metadata": {},
   "outputs": [
    {
     "data": {
      "text/plain": [
       "20"
      ]
     },
     "execution_count": 47,
     "metadata": {},
     "output_type": "execute_result"
    }
   ],
   "source": [
    "min(y_test)"
   ]
  },
  {
   "cell_type": "code",
   "execution_count": 54,
   "metadata": {},
   "outputs": [
    {
     "data": {
      "image/png": "[encoded data removed]",
      "text/plain": [
       "<matplotlib.figure.Figure at 0x1289a5cf8>"
      ]
     },
     "metadata": {},
     "output_type": "display_data"
    }
   ],
   "source": [
    "plt.scatter(preds, y_test, color='gray');\n",
    "plt.xlabel('CNN Predicted Age (years)')\n",
    "plt.plot([min(y_test),max(y_test)],[min(y_test),max(y_test)])\n",
    "plt.ylabel('Age (years)')\n",
    "plt.show()"
   ]
  },
  {
   "cell_type": "code",
   "execution_count": 55,
   "metadata": {},
   "outputs": [
    {
     "data": {
      "image/png": "[encoded data removed]",
      "text/plain": [
       "<matplotlib.figure.Figure at 0x1289a5eb8>"
      ]
     },
     "metadata": {},
     "output_type": "display_data"
    }
   ],
   "source": [
    "plt.scatter(preds_train, y_train, color='gray');\n",
    "plt.xlabel('CNN Predicted Age (years)')\n",
    "plt.ylabel('Age (years)')\n",
    "plt.plot([min(y_train),max(y_train)],[min(y_train),max(y_train)])\n",
    "plt.show()"
   ]
  },
  {
   "cell_type": "code",
   "execution_count": 24,
   "metadata": {
    "scrolled": true
   },
   "outputs": [
    {
     "name": "stdout",
     "output_type": "stream",
     "text": [
      "11.381977648348421\n"
     ]
    }
   ],
   "source": [
    "print(score)"
   ]
  },
  {
   "cell_type": "code",
   "execution_count": 25,
   "metadata": {},
   "outputs": [
    {
     "name": "stdout",
     "output_type": "stream",
     "text": [
      "0.30304900827936954\n"
     ]
    }
   ],
   "source": [
    "r_score = r2_score(y_test, preds)\n",
    "print (r_score)"
   ]
  },
  {
   "cell_type": "code",
   "execution_count": 26,
   "metadata": {},
   "outputs": [
    {
     "name": "stdout",
     "output_type": "stream",
     "text": [
      "0.6192463616587662\n"
     ]
    }
   ],
   "source": [
    "r_score = r2_score(y_train, preds_train)\n",
    "print (r_score)"
   ]
  },
  {
   "cell_type": "code",
   "execution_count": 27,
   "metadata": {},
   "outputs": [
    {
     "name": "stdout",
     "output_type": "stream",
     "text": [
      "_________________________________________________________________\n",
      "Layer (type)                 Output Shape              Param #   \n",
      "=================================================================\n",
      "conv2d_1 (Conv2D)            (None, 252, 146, 15)      390       \n",
      "_________________________________________________________________\n",
      "max_pooling2d_1 (MaxPooling2 (None, 126, 73, 15)       0         \n",
      "_________________________________________________________________\n",
      "conv2d_2 (Conv2D)            (None, 123, 70, 30)       7230      \n",
      "_________________________________________________________________\n",
      "max_pooling2d_2 (MaxPooling2 (None, 61, 35, 30)        0         \n",
      "_________________________________________________________________\n",
      "dropout_1 (Dropout)          (None, 61, 35, 30)        0         \n",
      "_________________________________________________________________\n",
      "flatten_1 (Flatten)          (None, 64050)             0         \n",
      "_________________________________________________________________\n",
      "dense_1 (Dense)              (None, 1000)              64051000  \n",
      "_________________________________________________________________\n",
      "dropout_2 (Dropout)          (None, 1000)              0         \n",
      "_________________________________________________________________\n",
      "dense_2 (Dense)              (None, 1)                 1001      \n",
      "=================================================================\n",
      "Total params: 64,059,621\n",
      "Trainable params: 64,059,621\n",
      "Non-trainable params: 0\n",
      "_________________________________________________________________\n",
      "None\n"
     ]
    }
   ],
   "source": [
    "print (model.summary())"
   ]
  },
  {
   "cell_type": "code",
   "execution_count": 50,
   "metadata": {},
   "outputs": [],
   "source": [
    "mean_age = y.mean()"
   ]
  },
  {
   "cell_type": "code",
   "execution_count": 51,
   "metadata": {},
   "outputs": [],
   "source": [
    "baseline = np.ones((y_test.shape[0],1))*mean_age"
   ]
  },
  {
   "cell_type": "code",
   "execution_count": 52,
   "metadata": {},
   "outputs": [
    {
     "data": {
      "text/plain": [
       "15.306013924675183"
      ]
     },
     "execution_count": 52,
     "metadata": {},
     "output_type": "execute_result"
    }
   ],
   "source": [
    "mean_absolute_error(y_test,baseline)"
   ]
  },
  {
   "cell_type": "code",
   "execution_count": 53,
   "metadata": {},
   "outputs": [
    {
     "data": {
      "text/plain": [
       "11.381977699898385"
      ]
     },
     "execution_count": 53,
     "metadata": {},
     "output_type": "execute_result"
    }
   ],
   "source": [
    "mean_absolute_error(y_test,preds)"
   ]
  },
  {
   "cell_type": "code",
   "execution_count": null,
   "metadata": {},
   "outputs": [],
   "source": []
  }
 ],
 "metadata": {
  "kernelspec": {
   "display_name": "Python 3",
   "language": "python",
   "name": "python3"
  },
  "language_info": {
   "codemirror_mode": {
    "name": "ipython",
    "version": 3
   },
   "file_extension": ".py",
   "mimetype": "text/x-python",
   "name": "python",
   "nbconvert_exporter": "python",
   "pygments_lexer": "ipython3",
   "version": "3.6.4"
  }
 },
 "nbformat": 4,
 "nbformat_minor": 2
}
