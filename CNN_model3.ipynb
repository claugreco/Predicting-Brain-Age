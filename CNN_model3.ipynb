{
 "cells": [
  {
   "cell_type": "code",
   "execution_count": null,
   "metadata": {
    "collapsed": true
   },
   "outputs": [],
   "source": [
    "#Third Model. \n",
    "#Data Augmentation with ImageDataGenerator\n",
    "#Hyperparameters tunning with Hyperas"
   ]
  },
  {
   "cell_type": "code",
   "execution_count": 3,
   "metadata": {},
   "outputs": [
    {
     "name": "stderr",
     "output_type": "stream",
     "text": [
      "/Users/claugreco/anaconda3/envs/tensorflow/lib/python3.6/site-packages/h5py/__init__.py:36: FutureWarning: Conversion of the second argument of issubdtype from `float` to `np.floating` is deprecated. In future, it will be treated as `np.float64 == np.dtype(float).type`.\n",
      "  from ._conv import register_converters as _register_converters\n",
      "Using TensorFlow backend.\n"
     ]
    }
   ],
   "source": [
    "from __future__ import print_function\n",
    "from hyperopt import Trials, STATUS_OK, tpe\n",
    "from hyperas import optim\n",
    "from hyperas.distributions import uniform\n",
    "from keras.models import Sequential\n",
    "from keras.layers.core import Dense, Dropout, Activation, Flatten\n",
    "from keras.layers.convolutional import MaxPooling2D\n",
    "from keras.layers import Conv2D\n",
    "from keras.preprocessing.image import ImageDataGenerator\n",
    "from keras.utils import np_utils\n",
    "import h5py\n",
    "\n",
    "from keras.optimizers import Adam\n",
    "import pandas as pd\n",
    "from sklearn.model_selection import train_test_split\n",
    "from sklearn.preprocessing import StandardScaler\n",
    "from sklearn.preprocessing import MinMaxScaler\n",
    "from sklearn.metrics import mean_squared_error, r2_score\n",
    "from sklearn.metrics import mean_absolute_error\n",
    "from keras.callbacks import EarlyStopping\n",
    "\n",
    "%matplotlib inline\n",
    "import matplotlib.pyplot as plt"
   ]
  },
  {
   "cell_type": "code",
   "execution_count": 4,
   "metadata": {
    "collapsed": true
   },
   "outputs": [],
   "source": [
    "def data():\n",
    "    nb_classes = 1\n",
    "    \n",
    "    df = pd.read_csv('data.csv')\n",
    "    df = df.drop('Unnamed: 0', axis=1)\n",
    "    y= df['label']\n",
    "    X= df.drop('label', axis=1)\n",
    "\n",
    "    # Train/Test Split\n",
    "    X_train, X_test, Y_train, Y_test = train_test_split(X, y, test_size=0.3, random_state=142)\n",
    "    \n",
    "    print('X_train shape:', X_train.shape)\n",
    "    print(X_train.shape[0], 'train samples')\n",
    "    print(X_test.shape[0], 'test samples')\n",
    "    \n",
    "    scaler = MinMaxScaler(feature_range = (0,1))\n",
    "    X_train = scaler.fit_transform(X_train)\n",
    "    X_test = scaler.fit_transform(X_test)\n",
    "    \n",
    "    X_train = X_train.reshape(X_train.shape[0], 256, 150, 1)\n",
    "    X_test = X_test.reshape(X_test.shape[0], 256, 150, 1)\n",
    "\n",
    "    # this will do preprocessing and realtime data augmentation\n",
    "    datagen = ImageDataGenerator(\n",
    "        featurewise_center=False,  # set input mean to 0 over the dataset\n",
    "        samplewise_center=False,  # set each sample mean to 0\n",
    "        featurewise_std_normalization=False,  # divide inputs by std of the dataset\n",
    "        samplewise_std_normalization=False,  # divide each input by its std\n",
    "        zca_whitening=False,  # apply ZCA whitening\n",
    "        rotation_range=40,  # randomly rotate images in the range (degrees, 0 to 180)\n",
    "        width_shift_range=0.1,  # randomly shift images horizontally (fraction of total width)\n",
    "        height_shift_range=0.1,  # randomly shift images vertically (fraction of total height)\n",
    "        horizontal_flip=True,  # randomly flip images\n",
    "        vertical_flip=False)  # randomly flip images\n",
    "\n",
    "    # compute quantities required for featurewise normalization\n",
    "    # (std, mean, and principal components if ZCA whitening is applied)\n",
    "    datagen.fit(X_train)\n",
    "\n",
    "    return datagen, X_train, Y_train, X_test, Y_test"
   ]
  },
  {
   "cell_type": "code",
   "execution_count": 5,
   "metadata": {
    "collapsed": true
   },
   "outputs": [],
   "source": [
    "def model(datagen, X_train, Y_train, X_test, Y_test):\n",
    "\n",
    "    nb_epoch = 15\n",
    "\n",
    "    # input image dimensions\n",
    "    img_rows, img_cols = 256, 150\n",
    "    img_channels = 1\n",
    "\n",
    "    model = Sequential()\n",
    "\n",
    "    model.add(Conv2D({{choice([90])}}, (5,5), padding='same',\n",
    "                            input_shape=X_train.shape[1:]))\n",
    "    model.add(Activation('relu'))\n",
    "    model.add(MaxPooling2D(pool_size=(2, 2)))\n",
    "\n",
    "    model.add(Conv2D(256, (4,4), padding='same'))\n",
    "    model.add(Activation('relu'))\n",
    "    model.add(MaxPooling2D(pool_size=(2, 2)))\n",
    "    model.add(Dropout({{uniform(0, 1)}}))\n",
    "\n",
    "    model.add(Flatten())\n",
    "    model.add(Dense(1000))\n",
    "    model.add(Activation('relu'))\n",
    "    model.add(Dropout({{uniform(0, 1)}}))\n",
    "    \n",
    "    model.add(Dense(nb_classes))\n",
    "    model.add(Activation('relu'))\n",
    "\n",
    "    adam = Adam()\n",
    "    model.compile(loss='mean_absolute_error',\n",
    "                  optimizer=adam, \n",
    "                  metrics=['mean_squared_error'])\n",
    "\n",
    "    # fit the model on the batches generated by datagen.flow()\n",
    "    model.fit_generator(datagen.flow(X_train, Y_train,\n",
    "                        batch_size={{choice([64, 128])}}),\n",
    "                        nb_epoch=nb_epoch,\n",
    "                        validation_data=(X_test, Y_test))\n",
    "\n",
    "    score, acc = model.evaluate(X_test, Y_test, verbose=0)\n",
    "\n",
    "    return {'loss': -acc, 'status': STATUS_OK, 'model': model}"
   ]
  },
  {
   "cell_type": "code",
   "execution_count": 6,
   "metadata": {
    "scrolled": true
   },
   "outputs": [
    {
     "name": "stdout",
     "output_type": "stream",
     "text": [
      "X_train shape: (394, 38400)\n",
      "394 train samples\n",
      "99 test samples\n",
      ">>> Imports:\n",
      "#coding=utf-8\n",
      "\n",
      "from __future__ import print_function\n",
      "\n",
      "try:\n",
      "    from hyperopt import Trials, STATUS_OK, tpe\n",
      "except:\n",
      "    pass\n",
      "\n",
      "try:\n",
      "    from hyperas import optim\n",
      "except:\n",
      "    pass\n",
      "\n",
      "try:\n",
      "    from hyperas.distributions import uniform\n",
      "except:\n",
      "    pass\n",
      "\n",
      "try:\n",
      "    from keras.models import Sequential\n",
      "except:\n",
      "    pass\n",
      "\n",
      "try:\n",
      "    from keras.layers.core import Dense, Dropout, Activation, Flatten\n",
      "except:\n",
      "    pass\n",
      "\n",
      "try:\n",
      "    from keras.layers.convolutional import MaxPooling2D\n",
      "except:\n",
      "    pass\n",
      "\n",
      "try:\n",
      "    from keras.layers import Conv2D\n",
      "except:\n",
      "    pass\n",
      "\n",
      "try:\n",
      "    from keras.preprocessing.image import ImageDataGenerator\n",
      "except:\n",
      "    pass\n",
      "\n",
      "try:\n",
      "    from keras.utils import np_utils\n",
      "except:\n",
      "    pass\n",
      "\n",
      "try:\n",
      "    import h5py\n",
      "except:\n",
      "    pass\n",
      "\n",
      "try:\n",
      "    from keras.optimizers import Adam\n",
      "except:\n",
      "    pass\n",
      "\n",
      "try:\n",
      "    import pandas as pd\n",
      "except:\n",
      "    pass\n",
      "\n",
      "try:\n",
      "    from sklearn.model_selection import train_test_split\n",
      "except:\n",
      "    pass\n",
      "\n",
      "try:\n",
      "    from sklearn.preprocessing import StandardScaler\n",
      "except:\n",
      "    pass\n",
      "\n",
      "try:\n",
      "    from sklearn.preprocessing import MinMaxScaler\n",
      "except:\n",
      "    pass\n",
      "\n",
      "try:\n",
      "    from sklearn.metrics import mean_squared_error, r2_score\n",
      "except:\n",
      "    pass\n",
      "\n",
      "try:\n",
      "    from sklearn.metrics import mean_absolute_error\n",
      "except:\n",
      "    pass\n",
      "\n",
      "try:\n",
      "    from keras.callbacks import EarlyStopping\n",
      "except:\n",
      "    pass\n",
      "\n",
      "try:\n",
      "    import matplotlib.pyplot as plt\n",
      "except:\n",
      "    pass\n",
      "\n",
      "try:\n",
      "    import gc\n",
      "except:\n",
      "    pass\n",
      "\n",
      ">>> Hyperas search space:\n",
      "\n",
      "def get_space():\n",
      "    return {\n",
      "        'Conv2D': hp.choice('Conv2D', [30, 45]),\n",
      "        'Dropout': hp.uniform('Dropout', 0, 1),\n",
      "        'Dense': hp.choice('Dense', [1024]),\n",
      "        'Dropout_1': hp.uniform('Dropout_1', 0, 1),\n",
      "        'batch_size': hp.choice('batch_size', [32, 64]),\n",
      "    }\n",
      "\n",
      ">>> Data\n",
      "   1: \n",
      "   2: nb_classes = 1\n",
      "   3: # the data, shuffled and split between train and test sets\n",
      "   4: df = pd.read_csv('/Users/claugreco/Documents/GA/dsi_3/Projects/capstone/data.csv')\n",
      "   5: df = df.drop('Unnamed: 0', axis=1)\n",
      "   6: y= df['label']\n",
      "   7: X= df.drop('label', axis=1)\n",
      "   8: \n",
      "   9: \n",
      "  10: # Train/Test Split\n",
      "  11: X_train, X_test, Y_train, Y_test = train_test_split(X, y, test_size=0.2, random_state=142)\n",
      "  12: \n",
      "  13: print('X_train shape:', X_train.shape)\n",
      "  14: print(X_train.shape[0], 'train samples')\n",
      "  15: print(X_test.shape[0], 'test samples')\n",
      "  16: \n",
      "  17: scaler = MinMaxScaler(feature_range = (0,1))\n",
      "  18: X_train = scaler.fit_transform(X_train)\n",
      "  19: X_test = scaler.fit_transform(X_test)\n",
      "  20: \n",
      "  21: X_train = X_train.reshape(X_train.shape[0], 256, 150, 1)\n",
      "  22: X_test = X_test.reshape(X_test.shape[0], 256, 150, 1)\n",
      "  23: \n",
      "  24: # this will do preprocessing and realtime data augmentation\n",
      "  25: datagen = ImageDataGenerator(\n",
      "  26:     featurewise_center=False,  # set input mean to 0 over the dataset\n",
      "  27:     samplewise_center=False,  # set each sample mean to 0\n",
      "  28:     featurewise_std_normalization=False,  # divide inputs by std of the dataset\n",
      "  29:     samplewise_std_normalization=False,  # divide each input by its std\n",
      "  30:     zca_whitening=False,  # apply ZCA whitening\n",
      "  31:     rotation_range=40,  # randomly rotate images in the range (degrees, 0 to 180)\n",
      "  32:     width_shift_range=0.1,  # randomly shift images horizontally (fraction of total width)\n",
      "  33:     height_shift_range=0.1,  # randomly shift images vertically (fraction of total height)\n",
      "  34:     zoom_range=0.2,\n",
      "  35:     horizontal_flip=True,  # randomly flip images\n",
      "  36:     vertical_flip=False)  # randomly flip images\n",
      "  37: \n",
      "  38: # compute quantities required for featurewise normalization\n",
      "  39: # (std, mean, and principal components if ZCA whitening is applied)\n",
      "  40: datagen.fit(X_train)\n",
      "  41: \n",
      "  42: \n",
      "  43: \n",
      "  44: \n",
      ">>> Resulting replaced keras model:\n",
      "\n",
      "   1: def keras_fmin_fnct(space):\n",
      "   2: \n",
      "   3: \n",
      "   4:     nb_epoch = 15\n",
      "   5: \n",
      "   6:     # input image dimensions\n",
      "   7:     img_rows, img_cols = 256, 150\n",
      "   8:     img_channels = 1\n",
      "   9: \n",
      "  10:     model = Sequential()\n",
      "  11: \n",
      "  12:     model.add(Conv2D(space['Conv2D'], (5,5), padding='same',\n",
      "  13:                             input_shape=X_train.shape[1:]))\n",
      "  14:     model.add(Activation('relu'))\n",
      "  15:     model.add(MaxPooling2D(pool_size=(2, 2)))\n",
      "  16: \n",
      "  17:     model.add(Conv2D(60, (4,4), padding='same'))\n",
      "  18:     model.add(Activation('relu'))\n",
      "  19:     model.add(MaxPooling2D(pool_size=(2, 2)))\n",
      "  20:     model.add(Dropout(space['Dropout']))\n",
      "  21: \n",
      "  22:     model.add(Flatten())\n",
      "  23:     model.add(Dense(space['Dense']))\n",
      "  24:     model.add(Activation('relu'))\n",
      "  25:     model.add(Dropout(space['Dropout_1']))\n",
      "  26:     \n",
      "  27:     model.add(Dense(nb_classes))\n",
      "  28:     model.add(Activation('relu'))\n",
      "  29: \n",
      "  30:     adam = Adam()\n",
      "  31:     model.compile(loss='mean_absolute_error',\n",
      "  32:                   optimizer=adam, \n",
      "  33:                   metrics=['mean_squared_error'])\n",
      "  34: \n",
      "  35:     # fit the model on the batches generated by datagen.flow()\n",
      "  36:     model.fit(X_train, Y_train,\n",
      "  37:             batch_size=space['batch_size'],\n",
      "  38:             epochs=nb_epoch,\n",
      "  39:             validation_data=(X_test, Y_test))\n",
      "  40: \n",
      "  41:     score, acc = model.evaluate(X_test, Y_test, verbose=0)\n",
      "  42: \n",
      "  43:     return {'loss': -acc, 'status': STATUS_OK, 'model': model}\n",
      "  44: \n",
      "X_train shape: (394, 38400)\n",
      "394 train samples\n",
      "99 test samples\n",
      "Train on 394 samples, validate on 99 samples\n",
      "Epoch 1/15\n",
      "394/394 [==============================] - 133s 337ms/step - loss: 32.7868 - mean_squared_error: 1645.9589 - val_loss: 34.4871 - val_mean_squared_error: 2675.6626\n",
      "Epoch 2/15\n",
      "394/394 [==============================] - 108s 274ms/step - loss: 23.1340 - mean_squared_error: 878.9438 - val_loss: 21.9643 - val_mean_squared_error: 780.8460\n",
      "Epoch 3/15\n",
      "394/394 [==============================] - 111s 283ms/step - loss: 14.3425 - mean_squared_error: 316.3351 - val_loss: 18.4315 - val_mean_squared_error: 509.4844\n",
      "Epoch 4/15\n",
      "394/394 [==============================] - 114s 289ms/step - loss: 14.4643 - mean_squared_error: 304.3776 - val_loss: 13.9502 - val_mean_squared_error: 279.2115\n",
      "Epoch 5/15\n",
      "394/394 [==============================] - 105s 266ms/step - loss: 12.8601 - mean_squared_error: 240.9498 - val_loss: 15.1720 - val_mean_squared_error: 368.4686\n",
      "Epoch 6/15\n",
      "394/394 [==============================] - 107s 272ms/step - loss: 12.7757 - mean_squared_error: 246.2405 - val_loss: 13.1654 - val_mean_squared_error: 242.3315\n",
      "Epoch 7/15\n",
      "394/394 [==============================] - 95s 242ms/step - loss: 12.4351 - mean_squared_error: 222.3238 - val_loss: 12.9195 - val_mean_squared_error: 230.6514\n",
      "Epoch 8/15\n",
      "394/394 [==============================] - 93s 237ms/step - loss: 11.7492 - mean_squared_error: 205.0692 - val_loss: 12.9284 - val_mean_squared_error: 236.7865\n",
      "Epoch 9/15\n",
      "394/394 [==============================] - 113s 287ms/step - loss: 11.5447 - mean_squared_error: 192.9844 - val_loss: 14.2116 - val_mean_squared_error: 320.0100\n",
      "Epoch 10/15\n",
      "394/394 [==============================] - 134s 340ms/step - loss: 11.8116 - mean_squared_error: 208.7116 - val_loss: 13.5628 - val_mean_squared_error: 279.6237\n",
      "Epoch 11/15\n",
      "394/394 [==============================] - 117s 298ms/step - loss: 11.2689 - mean_squared_error: 190.2990 - val_loss: 12.0671 - val_mean_squared_error: 204.3776\n",
      "Epoch 12/15\n",
      "394/394 [==============================] - 116s 294ms/step - loss: 11.6795 - mean_squared_error: 199.4545 - val_loss: 12.0252 - val_mean_squared_error: 204.5128\n",
      "Epoch 13/15\n",
      "394/394 [==============================] - 98s 250ms/step - loss: 10.3488 - mean_squared_error: 165.2723 - val_loss: 12.0575 - val_mean_squared_error: 214.0596\n",
      "Epoch 14/15\n",
      "394/394 [==============================] - 117s 298ms/step - loss: 10.6480 - mean_squared_error: 175.2009 - val_loss: 11.8384 - val_mean_squared_error: 213.5543\n",
      "Epoch 15/15\n",
      "394/394 [==============================] - 100s 254ms/step - loss: 10.3059 - mean_squared_error: 167.3090 - val_loss: 11.4935 - val_mean_squared_error: 194.9375\n",
      "Train on 394 samples, validate on 99 samples\n",
      "Epoch 1/15\n",
      "394/394 [==============================] - 131s 333ms/step - loss: 29.5621 - mean_squared_error: 1346.1640 - val_loss: 32.5645 - val_mean_squared_error: 2174.7719\n",
      "Epoch 2/15\n",
      "394/394 [==============================] - 137s 348ms/step - loss: 16.6969 - mean_squared_error: 425.8364 - val_loss: 16.2163 - val_mean_squared_error: 374.3167\n",
      "Epoch 3/15\n",
      "394/394 [==============================] - 117s 296ms/step - loss: 13.0096 - mean_squared_error: 241.0348 - val_loss: 15.9504 - val_mean_squared_error: 385.8064\n",
      "Epoch 4/15\n",
      "394/394 [==============================] - 123s 311ms/step - loss: 13.2019 - mean_squared_error: 268.6160 - val_loss: 14.4898 - val_mean_squared_error: 312.9256\n",
      "Epoch 5/15\n",
      "394/394 [==============================] - 120s 304ms/step - loss: 11.9687 - mean_squared_error: 213.0253 - val_loss: 13.4173 - val_mean_squared_error: 256.5078\n",
      "Epoch 6/15\n",
      "394/394 [==============================] - 120s 303ms/step - loss: 11.5551 - mean_squared_error: 197.0618 - val_loss: 13.3846 - val_mean_squared_error: 271.9029\n",
      "Epoch 7/15\n",
      "394/394 [==============================] - 90s 229ms/step - loss: 13.1289 - mean_squared_error: 257.9466 - val_loss: 12.8412 - val_mean_squared_error: 221.9161\n",
      "Epoch 8/15\n",
      "394/394 [==============================] - 89s 226ms/step - loss: 11.6574 - mean_squared_error: 196.7270 - val_loss: 12.3000 - val_mean_squared_error: 216.5284\n",
      "Epoch 9/15\n",
      "394/394 [==============================] - 93s 237ms/step - loss: 11.7257 - mean_squared_error: 203.1198 - val_loss: 12.1647 - val_mean_squared_error: 214.8731\n",
      "Epoch 10/15\n",
      "394/394 [==============================] - 90s 227ms/step - loss: 10.7017 - mean_squared_error: 168.1252 - val_loss: 12.2814 - val_mean_squared_error: 212.5119\n",
      "Epoch 11/15\n",
      "394/394 [==============================] - 85s 216ms/step - loss: 10.5152 - mean_squared_error: 169.7398 - val_loss: 13.2051 - val_mean_squared_error: 273.2384\n",
      "Epoch 12/15\n",
      "394/394 [==============================] - 91s 230ms/step - loss: 9.3387 - mean_squared_error: 131.5000 - val_loss: 11.4573 - val_mean_squared_error: 196.1968\n",
      "Epoch 13/15\n",
      "394/394 [==============================] - 107s 271ms/step - loss: 8.0191 - mean_squared_error: 98.7743 - val_loss: 11.0623 - val_mean_squared_error: 191.1150\n",
      "Epoch 14/15\n",
      "394/394 [==============================] - 97s 246ms/step - loss: 7.3694 - mean_squared_error: 84.3396 - val_loss: 11.1200 - val_mean_squared_error: 200.3640\n",
      "Epoch 15/15\n",
      "394/394 [==============================] - 150s 381ms/step - loss: 6.6706 - mean_squared_error: 75.5474 - val_loss: 10.6200 - val_mean_squared_error: 192.2902\n"
     ]
    }
   ],
   "source": [
    "%%timeit -n1 -r1\n",
    "\n",
    "datagen, X_train, Y_train, X_test, Y_test = data()\n",
    "\n",
    "best_run, best_model, space = optim.minimize(model=model,\n",
    "                                          data=data,\n",
    "                                          algo=tpe.suggest,\n",
    "                                          max_evals=2,\n",
    "                                          trials=Trials(),\n",
    "                                          eval_space=True,  \n",
    "                                          return_space=True,\n",
    "                                          notebook_name='CNN_model3')\n"
   ]
  },
  {
   "cell_type": "code",
   "execution_count": 7,
   "metadata": {
    "collapsed": true
   },
   "outputs": [],
   "source": [
    "best_model.save(\"best_model3.h5\")"
   ]
  },
  {
   "cell_type": "code",
   "execution_count": 8,
   "metadata": {},
   "outputs": [
    {
     "name": "stdout",
     "output_type": "stream",
     "text": [
      "Evalutation of best performing model:\n",
      "99/99 [==============================] - 6s 57ms/step\n",
      "[11.493547295079086, 194.93753020931976]\n"
     ]
    }
   ],
   "source": [
    "print(\"Evalutation of best performing model:\")\n",
    "print(best_model.evaluate(X_test, Y_test))"
   ]
  },
  {
   "cell_type": "code",
   "execution_count": 9,
   "metadata": {
    "scrolled": true
   },
   "outputs": [
    {
     "name": "stdout",
     "output_type": "stream",
     "text": [
      "Parameters of best run {'Conv2D': 45, 'Dense': 1024, 'Dropout': 0.692539034315719, 'Dropout_1': 0.21280043312755825, 'batch_size': 32}\n"
     ]
    }
   ],
   "source": [
    "print(\"Parameters of best run\", best_run)"
   ]
  },
  {
   "cell_type": "code",
   "execution_count": null,
   "metadata": {
    "collapsed": true
   },
   "outputs": [],
   "source": [
    "print(best_model.summary())"
   ]
  },
  {
   "cell_type": "code",
   "execution_count": 10,
   "metadata": {
    "collapsed": true
   },
   "outputs": [],
   "source": [
    "preds_test = best_model.predict(X_test)\n",
    "preds_train = best_model.predict(X_train)"
   ]
  },
  {
   "cell_type": "code",
   "execution_count": 11,
   "metadata": {},
   "outputs": [
    {
     "data": {
      "image/png": "[encoded data removed]",
      "text/plain": [
       "<matplotlib.figure.Figure at 0x112e0b4a8>"
      ]
     },
     "metadata": {},
     "output_type": "display_data"
    }
   ],
   "source": [
    "plt.scatter(preds, y_test, color='gray');\n",
    "plt.xlabel('CNN Predicted Age (years)')\n",
    "plt.plot([min(y_test),max(y_test)],[min(y_test),max(y_test)])\n",
    "plt.ylabel('Age (years)')\n",
    "plt.show()"
   ]
  },
  {
   "cell_type": "code",
   "execution_count": 12,
   "metadata": {},
   "outputs": [
    {
     "data": {
      "image/png": "[encoded data removed]",
      "text/plain": [
       "<matplotlib.figure.Figure at 0x121c1acf8>"
      ]
     },
     "metadata": {},
     "output_type": "display_data"
    }
   ],
   "source": [
    "plt.scatter(preds_train, y_train, color='gray');\n",
    "plt.xlabel('CNN Predicted Age (years)')\n",
    "plt.ylabel('Age (years)')\n",
    "plt.plot([min(y_train),max(y_train)],[min(y_train),max(y_train)])\n",
    "plt.show()"
   ]
  },
  {
   "cell_type": "code",
   "execution_count": 13,
   "metadata": {},
   "outputs": [
    {
     "name": "stdout",
     "output_type": "stream",
     "text": [
      "0.4110043828722404\n"
     ]
    }
   ],
   "source": [
    "r_score_test = r2_score(Y_test, preds_test)\n",
    "print (r_score_test)"
   ]
  },
  {
   "cell_type": "code",
   "execution_count": 14,
   "metadata": {},
   "outputs": [
    {
     "name": "stdout",
     "output_type": "stream",
     "text": [
      "0.47932521103166204\n"
     ]
    }
   ],
   "source": [
    "r_score_train = r2_score(Y_train, preds_train)\n",
    "print (r_score_train)"
   ]
  },
  {
   "cell_type": "code",
   "execution_count": null,
   "metadata": {
    "collapsed": true
   },
   "outputs": [],
   "source": [
    "import gc; gc.collect()"
   ]
  },
  {
   "cell_type": "code",
   "execution_count": null,
   "metadata": {
    "collapsed": true
   },
   "outputs": [],
   "source": []
  }
 ],
 "metadata": {
  "kernelspec": {
   "display_name": "Python 3",
   "language": "python",
   "name": "python3"
  },
  "language_info": {
   "codemirror_mode": {
    "name": "ipython",
    "version": 3
   },
   "file_extension": ".py",
   "mimetype": "text/x-python",
   "name": "python",
   "nbconvert_exporter": "python",
   "pygments_lexer": "ipython3",
   "version": "3.6.4"
  }
 },
 "nbformat": 4,
 "nbformat_minor": 2
}
